{
  "nbformat": 4,
  "nbformat_minor": 0,
  "metadata": {
    "colab": {
      "name": "attack-project.ipynb",
      "provenance": [],
      "collapsed_sections": [],
      "machine_shape": "hm",
      "authorship_tag": "ABX9TyPm8JZeo9nDXF2AJGgP8g3x",
      "include_colab_link": true
    },
    "kernelspec": {
      "name": "python3",
      "display_name": "Python 3"
    },
    "language_info": {
      "name": "python"
    },
    "accelerator": "GPU"
  },
  "cells": [
    {
      "cell_type": "markdown",
      "metadata": {
        "id": "view-in-github",
        "colab_type": "text"
      },
      "source": [
        "<a href=\"https://colab.research.google.com/github/0x11c11e/Attack-Project/blob/master/attack_project.ipynb\" target=\"_parent\"><img src=\"https://colab.research.google.com/assets/colab-badge.svg\" alt=\"Open In Colab\"/></a>"
      ]
    },
    {
      "cell_type": "markdown",
      "source": [
        "#### Clone source code from github"
      ],
      "metadata": {
        "id": "XuIEwYjXmbJk"
      }
    },
    {
      "cell_type": "code",
      "execution_count": 2,
      "metadata": {
        "id": "GLOOsXSpk0xo",
        "colab": {
          "base_uri": "https://localhost:8080/"
        },
        "outputId": "258cd9c7-7a36-4048-da00-c35bf8f7ead6"
      },
      "outputs": [
        {
          "output_type": "stream",
          "name": "stdout",
          "text": [
            "Cloning into 'Attack-Project'...\n",
            "remote: Enumerating objects: 38, done.\u001b[K\n",
            "remote: Counting objects: 100% (38/38), done.\u001b[K\n",
            "remote: Compressing objects: 100% (23/23), done.\u001b[K\n",
            "remote: Total 38 (delta 5), reused 38 (delta 5), pack-reused 0\u001b[K\n",
            "Unpacking objects: 100% (38/38), done.\n"
          ]
        }
      ],
      "source": [
        "!git clone https://github.com/0x11c11e/Attack-Project.git"
      ]
    },
    {
      "cell_type": "markdown",
      "source": [
        "#### Download dataset from google drive"
      ],
      "metadata": {
        "id": "WeE-oVpYmhKg"
      }
    },
    {
      "cell_type": "code",
      "source": [
        "!gdown 1LV_XP7hxlbVRjXeltDYp22EwKid0eVFo\n",
        "!gdown 1XxGG8GAmMf4RIgVaHwApPB1-pmGdQOlJ\n",
        "!gdown 1FPwhCNWBxDjVl90akeGeVRjH8WLhH7yn"
      ],
      "metadata": {
        "id": "twxlcDTmlTL2",
        "colab": {
          "base_uri": "https://localhost:8080/"
        },
        "outputId": "9cdb5547-69d9-4f35-dccb-26fcd60432bb"
      },
      "execution_count": 3,
      "outputs": [
        {
          "output_type": "stream",
          "name": "stdout",
          "text": [
            "Downloading...\n",
            "From: https://drive.google.com/uc?id=1LV_XP7hxlbVRjXeltDYp22EwKid0eVFo\n",
            "To: /content/test_split.pt\n",
            "100% 222M/222M [00:02<00:00, 109MB/s]\n",
            "Downloading...\n",
            "From: https://drive.google.com/uc?id=1XxGG8GAmMf4RIgVaHwApPB1-pmGdQOlJ\n",
            "To: /content/train_split.pt\n",
            "100% 222M/222M [00:01<00:00, 146MB/s]\n",
            "Downloading...\n",
            "From: https://drive.google.com/uc?id=1FPwhCNWBxDjVl90akeGeVRjH8WLhH7yn\n",
            "To: /content/val_split.pt\n",
            "100% 222M/222M [00:01<00:00, 123MB/s]\n"
          ]
        }
      ]
    },
    {
      "cell_type": "markdown",
      "source": [
        "#### move datasets to correct location in source code"
      ],
      "metadata": {
        "id": "kMGkD6cDmmJR"
      }
    },
    {
      "cell_type": "code",
      "source": [
        "%mv ./*.pt '/content/Attack-Project/maestro-public/tasks/attack_project/datasets/CIFAR10/student'"
      ],
      "metadata": {
        "id": "8KYyVvfImSAB"
      },
      "execution_count": 4,
      "outputs": []
    }
  ]
}